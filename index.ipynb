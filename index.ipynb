{
 "cells": [
  {
   "cell_type": "markdown",
   "metadata": {},
   "source": [
    "Let's practice our matplotlib visualization skills while visualizing bird sighting data gathered from the Cornell Ornithology [eBird API](https://documenter.getpostman.com/view/664302/S1ENwy59)."
   ]
  },
  {
   "cell_type": "markdown",
   "metadata": {},
   "source": [
    "![Cornell Ornithology](data:image/png;base64,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)"
   ]
  },
  {
   "cell_type": "code",
   "execution_count": null,
   "metadata": {},
   "outputs": [],
   "source": [
    "import pickle\n",
    "import matplotlib.pyplot as plt"
   ]
  },
  {
   "cell_type": "markdown",
   "metadata": {},
   "source": [
    "# Task 1: Most Common Bird Bar Chart\n",
    "\n",
    "The dictionary loaded above contains recent counts of bird species sighted in Central Park. \n",
    "\n",
    "Recent visitors to the park include this little dude:\n",
    "\n",
    "![Northern Saw-whet Owl](data:image/jpeg;base64,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)"
   ]
  },
  {
   "cell_type": "markdown",
   "metadata": {},
   "source": [
    "Your first task is to make a bar chart visualizing the counts of the top 10 most commonly sighted birds in the park. You should aspire to use the fig, ax = plt.subplots() syntax."
   ]
  },
  {
   "cell_type": "code",
   "execution_count": null,
   "metadata": {},
   "outputs": [],
   "source": [
    "# If you are spending to much time on that, run this cell to return the sorted object.\n",
    "with open('data/sorted_birds', 'rb') as read_file:\n",
    "    sorted_birds = pickle.load(read_file)"
   ]
  },
  {
   "cell_type": "markdown",
   "metadata": {},
   "source": [
    "First, create two separate lists: one list containing the bird names, and one list containing the counts. These lists should preserve the relationship between name and count by aligned indices. Then slice the lists so they include the first ten bird names and bird counts, respectively."
   ]
  },
  {
   "cell_type": "code",
   "execution_count": null,
   "metadata": {},
   "outputs": [],
   "source": [
    "top_10_bird_names = None\n",
    "top_10_bird_counts = None"
   ]
  },
  {
   "cell_type": "markdown",
   "metadata": {},
   "source": [
    "Now, create a bar chart with these two lists.  You may have some tick problems, which I'll let you sort out your own solution to. Don't forget plt.subplots()\n",
    "\n",
    "Don't forget a title and axis labels."
   ]
  },
  {
   "cell_type": "code",
   "execution_count": null,
   "metadata": {},
   "outputs": [],
   "source": [
    "# Your code here"
   ]
  },
  {
   "cell_type": "markdown",
   "metadata": {},
   "source": [
    "# Task 2: Crow Distributions"
   ]
  },
  {
   "cell_type": "markdown",
   "metadata": {},
   "source": [
    "Now we will broaden our territory, but focus on a single species: The American Crow.\n",
    "    \n",
    "![American Crow](data:image/jpeg;base64,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)"
   ]
  },
  {
   "cell_type": "code",
   "execution_count": null,
   "metadata": {},
   "outputs": [],
   "source": [
    "with open('data/crow_counts', 'rb') as read_file:\n",
    "    cp_crows, loop_crows, seattle_crows = pickle.load(read_file)"
   ]
  },
  {
   "cell_type": "markdown",
   "metadata": {},
   "source": [
    "The above cell loaded 3 lists of crow sighting counts near the central latitude/longitude of Central Park, Chicago's Loop, and Seattle.\n",
    "\n",
    "One could say each element represents a murder.\n",
    "\n",
    "The first part of the task is to make a histogram visualizing the distribution of number of crows per sighting.\n",
    "\n",
    "So, firstly, you must create a new list that merges all 3 lists."
   ]
  },
  {
   "cell_type": "code",
   "execution_count": null,
   "metadata": {},
   "outputs": [],
   "source": [
    "# Your code here\n",
    "all_crows = None"
   ]
  },
  {
   "cell_type": "markdown",
   "metadata": {},
   "source": [
    "Now, create a histogram that shows the distribution of crow counts."
   ]
  },
  {
   "cell_type": "code",
   "execution_count": null,
   "metadata": {},
   "outputs": [],
   "source": [
    " # Your code here"
   ]
  },
  {
   "cell_type": "markdown",
   "metadata": {},
   "source": [
    "Your histogram should have looked pretty boring: 1 large spike near zero, with an x-axis range from 0 to around 10000.\n",
    "\n",
    "Pray for the people of Seattle if that major outlier is not an input error."
   ]
  },
  {
   "cell_type": "markdown",
   "metadata": {},
   "source": [
    "Next, let's plot a boxplot to see what it tells us."
   ]
  },
  {
   "cell_type": "code",
   "execution_count": null,
   "metadata": {},
   "outputs": [],
   "source": [
    "# Your code here"
   ]
  },
  {
   "cell_type": "markdown",
   "metadata": {},
   "source": [
    "The boxplot should also look odd. Those little circles are the outliers.  Recreate the boxplot, but this time remove the outliers via the `showfliers` argument."
   ]
  },
  {
   "cell_type": "markdown",
   "metadata": {},
   "source": [
    "By removing the fliers, we can see the components of the boxplot: the median at 3 crows, and the top and bottom edges of the box representing the interquartile ranges, and the whiskers, which are 1.5 times the IQR above the top of the box."
   ]
  },
  {
   "cell_type": "markdown",
   "metadata": {},
   "source": [
    "If you assign the boxplot axis to a variable (perhaps bp), you can then access information about the plot. We can get the value of the end of the whisker, i.e. the value whereafter matplotlib designates points as outliers, via the following code `bp['whiskers'][1].get_ydata()`"
   ]
  },
  {
   "cell_type": "code",
   "execution_count": null,
   "metadata": {},
   "outputs": [],
   "source": [
    "bp['whiskers'][1].get_ydata()"
   ]
  },
  {
   "cell_type": "markdown",
   "metadata": {},
   "source": [
    "Given the above output, reduce the original all_crows object to contain only non-outlier elements."
   ]
  },
  {
   "cell_type": "code",
   "execution_count": null,
   "metadata": {},
   "outputs": [],
   "source": [
    "# your code here"
   ]
  },
  {
   "cell_type": "code",
   "execution_count": null,
   "metadata": {},
   "outputs": [],
   "source": [
    "Lastly, create a histogram without outliers."
   ]
  },
  {
   "cell_type": "code",
   "execution_count": null,
   "metadata": {},
   "outputs": [],
   "source": [
    "# your code here\n"
   ]
  },
  {
   "cell_type": "code",
   "execution_count": null,
   "metadata": {},
   "outputs": [],
   "source": []
  }
 ],
 "metadata": {
  "kernelspec": {
   "display_name": "learn-env",
   "language": "python",
   "name": "learn-env"
  },
  "language_info": {
   "codemirror_mode": {
    "name": "ipython",
    "version": 3
   },
   "file_extension": ".py",
   "mimetype": "text/x-python",
   "name": "python",
   "nbconvert_exporter": "python",
   "pygments_lexer": "ipython3",
   "version": "3.7.3"
  }
 },
 "nbformat": 4,
 "nbformat_minor": 4
}
